{
 "cells": [
  {
   "cell_type": "code",
   "execution_count": 3,
   "metadata": {},
   "outputs": [
    {
     "name": "stdout",
     "output_type": "stream",
     "text": [
      "Hello World!\n"
     ]
    }
   ],
   "source": [
    "# See the effect of the fact that Python runs through an interpreter instead of being compiled.\n",
    "print('Hello World!')"
   ]
  },
  {
   "cell_type": "code",
   "execution_count": 4,
   "metadata": {},
   "outputs": [],
   "source": [
    "# This and the next cell is just to show that you can present code, text, and data in Python Notebooks\n",
    "import matplotlib.pyplot as plt\n",
    "import matplotlib.image as img"
   ]
  },
  {
   "cell_type": "code",
   "execution_count": 5,
   "metadata": {},
   "outputs": [
    {
     "data": {
      "text/plain": [
       "<matplotlib.image.AxesImage at 0x155f2acf070>"
      ]
     },
     "execution_count": 5,
     "metadata": {},
     "output_type": "execute_result"
    },
    {
     "data": {
      "image/png": "[encoded data removed]",
      "text/plain": [
       "<Figure size 432x288 with 1 Axes>"
      ]
     },
     "metadata": {
      "needs_background": "light"
     },
     "output_type": "display_data"
    }
   ],
   "source": [
    "image = img.imread('C:/Users/ilija/Desktop/bu.tif')\n",
    "plt.imshow(image)"
   ]
  },
  {
   "cell_type": "markdown",
   "metadata": {},
   "source": [
    "You can also write text directly (without being it being a comment) just change code to Markdown in the panel right below File, Edit, View, etc. If you click the symbol to the right there are also other formatting options."
   ]
  },
  {
   "cell_type": "code",
   "execution_count": 7,
   "metadata": {},
   "outputs": [
    {
     "name": "stdout",
     "output_type": "stream",
     "text": [
      "x =  1 <class 'int'>\n",
      "y =  1.0 <class 'float'>\n",
      "z =  abracadabra <class 'str'>\n"
     ]
    }
   ],
   "source": [
    "# variables and their types\n",
    "x = 1; print('x = ', x, type(x))\n",
    "y = 1.0; print('y = ', y, type(y))\n",
    "z = 'abracadabra'; print('z = ', z, type(z))"
   ]
  },
  {
   "cell_type": "code",
   "execution_count": 8,
   "metadata": {},
   "outputs": [
    {
     "data": {
      "text/plain": [
       "3.5"
      ]
     },
     "execution_count": 8,
     "metadata": {},
     "output_type": "execute_result"
    }
   ],
   "source": [
    "# simple addition\n",
    "x+2.5"
   ]
  },
  {
   "cell_type": "code",
   "execution_count": 9,
   "metadata": {},
   "outputs": [
    {
     "name": "stdout",
     "output_type": "stream",
     "text": [
      "6 <class 'int'>\n",
      "0.6666666666666666 <class 'float'>\n",
      "0 <class 'int'>\n",
      "2 <class 'int'>\n",
      "8 <class 'int'>\n"
     ]
    }
   ],
   "source": [
    "# Some other arimthmetic operations\n",
    "# Pay attention to type conversion for division\n",
    "x = 2; y = 3; \n",
    "z = x*y; print(z, type(z))\n",
    "z = x/y; print(z, type(z)) # this works differently (like //) in Python 2.x\n",
    "z = x//y; print(z, type(z)) # floor division\n",
    "z = x%y; print(z, type(z)) # remainder\n",
    "z = x**y; print(z, type(z)) # power"
   ]
  },
  {
   "cell_type": "code",
   "execution_count": 10,
   "metadata": {},
   "outputs": [
    {
     "name": "stdout",
     "output_type": "stream",
     "text": [
      "5 <class 'int'>\n",
      "23 <class 'str'>\n",
      "222 <class 'str'>\n",
      "222 <class 'str'>\n"
     ]
    }
   ],
   "source": [
    "# See how type conversion works\n",
    "x = '2'; y = 3;\n",
    "z = int(x) + int(y); print(z, type(z))\n",
    "z = str(x) + str(y); print(z, type(z))\n",
    "z = x*y; print(z, type(z))\n",
    "z = y*x; print(z, type(z))"
   ]
  },
  {
   "cell_type": "code",
   "execution_count": 11,
   "metadata": {},
   "outputs": [],
   "source": [
    "#our first function\n",
    "def c2f(t):\n",
    "    return 9/5*t+32"
   ]
  },
  {
   "cell_type": "code",
   "execution_count": 12,
   "metadata": {},
   "outputs": [
    {
     "data": {
      "text/plain": [
       "<function __main__.c2f(t)>"
      ]
     },
     "execution_count": 12,
     "metadata": {},
     "output_type": "execute_result"
    }
   ],
   "source": [
    "c2f"
   ]
  },
  {
   "cell_type": "code",
   "execution_count": 13,
   "metadata": {},
   "outputs": [
    {
     "data": {
      "text/plain": [
       "32.0"
      ]
     },
     "execution_count": 13,
     "metadata": {},
     "output_type": "execute_result"
    }
   ],
   "source": [
    "c2f(0)"
   ]
  },
  {
   "cell_type": "code",
   "execution_count": 14,
   "metadata": {},
   "outputs": [
    {
     "data": {
      "text/plain": [
       "97.88000000000001"
      ]
     },
     "execution_count": 14,
     "metadata": {},
     "output_type": "execute_result"
    }
   ],
   "source": [
    "c2f(36.6)"
   ]
  },
  {
   "cell_type": "code",
   "execution_count": 15,
   "metadata": {},
   "outputs": [],
   "source": [
    "# Why does this not work?\n",
    "def f2c(t):\n",
    "    t = (t - 32)*5/9"
   ]
  },
  {
   "cell_type": "code",
   "execution_count": 16,
   "metadata": {},
   "outputs": [
    {
     "name": "stdout",
     "output_type": "stream",
     "text": [
      "10\n"
     ]
    }
   ],
   "source": [
    "temp = 10 \n",
    "f2c(temp)\n",
    "print(temp)"
   ]
  },
  {
   "cell_type": "code",
   "execution_count": 18,
   "metadata": {},
   "outputs": [],
   "source": [
    "# Watch what happens to variable IDs.\n",
    "def f2c_id(t):\n",
    "    print('id in function before assignment: ', id(t))\n",
    "    t = (t - 32)*5/9\n",
    "    print('id in function after assignment:', id(t))"
   ]
  },
  {
   "cell_type": "code",
   "execution_count": 19,
   "metadata": {},
   "outputs": [
    {
     "name": "stdout",
     "output_type": "stream",
     "text": [
      "id of temp: 1468531305040\n",
      "id in function before assignment:  1468531305040\n",
      "id in function after assignment: 1468655210448\n",
      "value of temp: 10\n",
      "id of temp: 1468531305040\n"
     ]
    }
   ],
   "source": [
    "# immutable types\n",
    "temp = 10; print('id of temp:',id(temp));\n",
    "f2c_id(temp); print('value of temp:', temp); print('id of temp:', id(temp))"
   ]
  },
  {
   "cell_type": "code",
   "execution_count": 1,
   "metadata": {},
   "outputs": [
    {
     "name": "stdout",
     "output_type": "stream",
     "text": [
      "1581195553360 1581195553360 1581195553392\n"
     ]
    }
   ],
   "source": [
    "# Explore how the memory assignments work\n",
    "x = 10; y = 10; z = 11; print(id(x), id(y), id(z))# Which ID's are the same? Why?"
   ]
  },
  {
   "cell_type": "code",
   "execution_count": 3,
   "metadata": {},
   "outputs": [
    {
     "name": "stdout",
     "output_type": "stream",
     "text": [
      "1581195553360 1581195553360 1581195553360\n"
     ]
    }
   ],
   "source": [
    "# See what happens\n",
    "x = z; z = y; print(id(x), id(y), id(z)) # here, IDs just point to the location where immutable constants like 10 and 11 are stored"
   ]
  },
  {
   "cell_type": "code",
   "execution_count": 23,
   "metadata": {},
   "outputs": [
    {
     "name": "stdout",
     "output_type": "stream",
     "text": [
      "<class 'list'>\n",
      "[0, 1, 5.8, 'abvgd']\n"
     ]
    }
   ],
   "source": [
    "# The results will be diferent for lists\n",
    "# Let's see first what a list is\n",
    "lt = [0, 1, 5.8, 'abvgd']\n",
    "print(type(lt))\n",
    "print(lt)"
   ]
  },
  {
   "cell_type": "code",
   "execution_count": 24,
   "metadata": {},
   "outputs": [
    {
     "name": "stdout",
     "output_type": "stream",
     "text": [
      "[1, 2, 3, 5, 6, 7]\n",
      "1 3\n",
      "[1, 2, 3, 'hello']\n"
     ]
    }
   ],
   "source": [
    "# You can concatenate lists using +\n",
    "l_one = [1,2,3]; l_two=[5,6,7]; print(l_one+l_two)\n",
    "# You can access an elemint of a list by its index\n",
    "print(l_one[0], l_one[-1]) # note that -1 is the last element; -2 works as well; try it\n",
    "# You can increase the list by appending a new element\n",
    "l_one.append('hello'); print(l_one)\n",
    "# You can do many other things as well; see documentation"
   ]
  },
  {
   "cell_type": "code",
   "execution_count": 25,
   "metadata": {},
   "outputs": [],
   "source": [
    "# Now, this function will modify the input argument.\n",
    "def c2f_list(lt):\n",
    "    lt[0] = (lt[0] - 39)*5/9"
   ]
  },
  {
   "cell_type": "code",
   "execution_count": 26,
   "metadata": {},
   "outputs": [
    {
     "name": "stdout",
     "output_type": "stream",
     "text": [
      "id of x: 1468617905216\n",
      "value of x [-21.666666666666668]\n",
      "id of x: 1468617905216\n"
     ]
    }
   ],
   "source": [
    "x = [0]; print('id of x:',id(x)); \n",
    "c2f_list(x); print('value of x',x);\n",
    "print('id of x:',id(x)) # note that the ID of x did not change unlike our example with integers"
   ]
  },
  {
   "cell_type": "code",
   "execution_count": 27,
   "metadata": {},
   "outputs": [
    {
     "name": "stdout",
     "output_type": "stream",
     "text": [
      "1468655052352 1468655038848\n",
      "1468655052352 1468655052352\n",
      "[1, 'dva', 3]\n"
     ]
    }
   ],
   "source": [
    "# Lists are pointers\n",
    "l_one = [1,2,3]; l_two = ['one', 'two', 'three']; print(id(l_one), id(l_two))\n",
    "l_two = l_one; print(id(l_one), id(l_two)) # now lists refer to the same point in memory, so both could be used to modify what is in that memory\n",
    "l_two[1] = 'two'; print(l_one)"
   ]
  },
  {
   "cell_type": "code",
   "execution_count": 28,
   "metadata": {},
   "outputs": [
    {
     "name": "stdout",
     "output_type": "stream",
     "text": [
      "l_one =  [1, 2, 3]\n",
      "l_two =  ['hey', 2, 3]\n"
     ]
    }
   ],
   "source": [
    "# What if you need to copy list content, but not the pointer?\n",
    "l_one = [1, 2, 3]\n",
    "l_two = l_one[:]\n",
    "l_two[0] = 'hey'\n",
    "print('l_one = ', l_one)\n",
    "print('l_two = ', l_two)"
   ]
  },
  {
   "cell_type": "code",
   "execution_count": 29,
   "metadata": {},
   "outputs": [
    {
     "name": "stdout",
     "output_type": "stream",
     "text": [
      "1468531305040\n"
     ]
    }
   ],
   "source": [
    "a=10\n",
    "b=10\n",
    "print(id(a))"
   ]
  },
  {
   "cell_type": "code",
   "execution_count": 30,
   "metadata": {},
   "outputs": [
    {
     "name": "stdout",
     "output_type": "stream",
     "text": [
      "1468531305040\n"
     ]
    }
   ],
   "source": [
    "print(id(b))"
   ]
  },
  {
   "cell_type": "code",
   "execution_count": 31,
   "metadata": {},
   "outputs": [],
   "source": [
    "b=b+1"
   ]
  },
  {
   "cell_type": "code",
   "execution_count": 32,
   "metadata": {},
   "outputs": [
    {
     "name": "stdout",
     "output_type": "stream",
     "text": [
      "1468531305072\n"
     ]
    }
   ],
   "source": [
    "print(id(b))"
   ]
  },
  {
   "cell_type": "code",
   "execution_count": null,
   "metadata": {},
   "outputs": [],
   "source": []
  }
 ],
 "metadata": {
  "kernelspec": {
   "display_name": "Python 3 (ipykernel)",
   "language": "python",
   "name": "python3"
  },
  "language_info": {
   "codemirror_mode": {
    "name": "ipython",
    "version": 3
   },
   "file_extension": ".py",
   "mimetype": "text/x-python",
   "name": "python",
   "nbconvert_exporter": "python",
   "pygments_lexer": "ipython3",
   "version": "3.9.12"
  }
 },
 "nbformat": 4,
 "nbformat_minor": 4
}
